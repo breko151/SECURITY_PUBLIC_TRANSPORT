{
 "cells": [
  {
   "cell_type": "markdown",
   "metadata": {},
   "source": [
    "# Exploración de las semanas del año con semanas con quincena"
   ]
  },
  {
   "cell_type": "code",
   "execution_count": 2,
   "metadata": {},
   "outputs": [],
   "source": [
    "import pandas as pd"
   ]
  },
  {
   "cell_type": "code",
   "execution_count": 3,
   "metadata": {},
   "outputs": [],
   "source": [
    "time_dim = pd.read_csv('./fact_constellation_schema/dim_tiempo.csv')"
   ]
  },
  {
   "cell_type": "code",
   "execution_count": 4,
   "metadata": {},
   "outputs": [
    {
     "data": {
      "text/html": [
       "<div>\n",
       "<style scoped>\n",
       "    .dataframe tbody tr th:only-of-type {\n",
       "        vertical-align: middle;\n",
       "    }\n",
       "\n",
       "    .dataframe tbody tr th {\n",
       "        vertical-align: top;\n",
       "    }\n",
       "\n",
       "    .dataframe thead th {\n",
       "        text-align: right;\n",
       "    }\n",
       "</style>\n",
       "<table border=\"1\" class=\"dataframe\">\n",
       "  <thead>\n",
       "    <tr style=\"text-align: right;\">\n",
       "      <th></th>\n",
       "      <th>id_tiempo</th>\n",
       "      <th>anio</th>\n",
       "      <th>trimestre</th>\n",
       "      <th>mes</th>\n",
       "      <th>semana_mes</th>\n",
       "      <th>semana_anio</th>\n",
       "      <th>dia_semana</th>\n",
       "      <th>dia</th>\n",
       "      <th>hora</th>\n",
       "      <th>minuto</th>\n",
       "    </tr>\n",
       "  </thead>\n",
       "  <tbody>\n",
       "    <tr>\n",
       "      <th>228475</th>\n",
       "      <td>202210021730</td>\n",
       "      <td>2022</td>\n",
       "      <td>4</td>\n",
       "      <td>10</td>\n",
       "      <td>1</td>\n",
       "      <td>39</td>\n",
       "      <td>Domingo</td>\n",
       "      <td>2</td>\n",
       "      <td>17</td>\n",
       "      <td>30</td>\n",
       "    </tr>\n",
       "  </tbody>\n",
       "</table>\n",
       "</div>"
      ],
      "text/plain": [
       "           id_tiempo  anio  trimestre  mes  semana_mes  semana_anio  \\\n",
       "228475  202210021730  2022          4   10           1           39   \n",
       "\n",
       "       dia_semana  dia  hora  minuto  \n",
       "228475    Domingo    2    17      30  "
      ]
     },
     "execution_count": 4,
     "metadata": {},
     "output_type": "execute_result"
    }
   ],
   "source": [
    "time_dim.sample()"
   ]
  },
  {
   "cell_type": "code",
   "execution_count": 9,
   "metadata": {},
   "outputs": [],
   "source": [
    "time_dim_filtered = time_dim[time_dim['minuto'] != 99][['anio', 'mes', 'dia', 'semana_anio', 'semana_mes', 'dia_semana']].drop_duplicates()\n",
    "time_dim_filtered.to_csv('./fact_constellation_schema/dim_tiempo_filtrada.csv', index=False)"
   ]
  },
  {
   "cell_type": "code",
   "execution_count": 10,
   "metadata": {},
   "outputs": [
    {
     "data": {
      "text/html": [
       "<div>\n",
       "<style scoped>\n",
       "    .dataframe tbody tr th:only-of-type {\n",
       "        vertical-align: middle;\n",
       "    }\n",
       "\n",
       "    .dataframe tbody tr th {\n",
       "        vertical-align: top;\n",
       "    }\n",
       "\n",
       "    .dataframe thead th {\n",
       "        text-align: right;\n",
       "    }\n",
       "</style>\n",
       "<table border=\"1\" class=\"dataframe\">\n",
       "  <thead>\n",
       "    <tr style=\"text-align: right;\">\n",
       "      <th></th>\n",
       "      <th>anio</th>\n",
       "      <th>mes</th>\n",
       "      <th>dia</th>\n",
       "      <th>semana_anio</th>\n",
       "      <th>semana_mes</th>\n",
       "      <th>dia_semana</th>\n",
       "    </tr>\n",
       "  </thead>\n",
       "  <tbody>\n",
       "    <tr>\n",
       "      <th>4944</th>\n",
       "      <td>2019</td>\n",
       "      <td>1</td>\n",
       "      <td>1</td>\n",
       "      <td>1</td>\n",
       "      <td>1</td>\n",
       "      <td>Martes</td>\n",
       "    </tr>\n",
       "    <tr>\n",
       "      <th>5065</th>\n",
       "      <td>2019</td>\n",
       "      <td>1</td>\n",
       "      <td>2</td>\n",
       "      <td>1</td>\n",
       "      <td>1</td>\n",
       "      <td>Miércoles</td>\n",
       "    </tr>\n",
       "    <tr>\n",
       "      <th>5227</th>\n",
       "      <td>2019</td>\n",
       "      <td>1</td>\n",
       "      <td>3</td>\n",
       "      <td>1</td>\n",
       "      <td>1</td>\n",
       "      <td>Jueves</td>\n",
       "    </tr>\n",
       "    <tr>\n",
       "      <th>5390</th>\n",
       "      <td>2019</td>\n",
       "      <td>1</td>\n",
       "      <td>4</td>\n",
       "      <td>1</td>\n",
       "      <td>1</td>\n",
       "      <td>Viernes</td>\n",
       "    </tr>\n",
       "    <tr>\n",
       "      <th>5548</th>\n",
       "      <td>2019</td>\n",
       "      <td>1</td>\n",
       "      <td>5</td>\n",
       "      <td>1</td>\n",
       "      <td>1</td>\n",
       "      <td>Sábado</td>\n",
       "    </tr>\n",
       "    <tr>\n",
       "      <th>...</th>\n",
       "      <td>...</td>\n",
       "      <td>...</td>\n",
       "      <td>...</td>\n",
       "      <td>...</td>\n",
       "      <td>...</td>\n",
       "      <td>...</td>\n",
       "    </tr>\n",
       "    <tr>\n",
       "      <th>303258</th>\n",
       "      <td>2023</td>\n",
       "      <td>12</td>\n",
       "      <td>27</td>\n",
       "      <td>52</td>\n",
       "      <td>5</td>\n",
       "      <td>Miércoles</td>\n",
       "    </tr>\n",
       "    <tr>\n",
       "      <th>303403</th>\n",
       "      <td>2023</td>\n",
       "      <td>12</td>\n",
       "      <td>28</td>\n",
       "      <td>52</td>\n",
       "      <td>5</td>\n",
       "      <td>Jueves</td>\n",
       "    </tr>\n",
       "    <tr>\n",
       "      <th>303550</th>\n",
       "      <td>2023</td>\n",
       "      <td>12</td>\n",
       "      <td>29</td>\n",
       "      <td>52</td>\n",
       "      <td>5</td>\n",
       "      <td>Viernes</td>\n",
       "    </tr>\n",
       "    <tr>\n",
       "      <th>303705</th>\n",
       "      <td>2023</td>\n",
       "      <td>12</td>\n",
       "      <td>30</td>\n",
       "      <td>52</td>\n",
       "      <td>5</td>\n",
       "      <td>Sábado</td>\n",
       "    </tr>\n",
       "    <tr>\n",
       "      <th>303833</th>\n",
       "      <td>2023</td>\n",
       "      <td>12</td>\n",
       "      <td>31</td>\n",
       "      <td>52</td>\n",
       "      <td>5</td>\n",
       "      <td>Domingo</td>\n",
       "    </tr>\n",
       "  </tbody>\n",
       "</table>\n",
       "<p>1826 rows × 6 columns</p>\n",
       "</div>"
      ],
      "text/plain": [
       "        anio  mes  dia  semana_anio  semana_mes dia_semana\n",
       "4944    2019    1    1            1           1     Martes\n",
       "5065    2019    1    2            1           1  Miércoles\n",
       "5227    2019    1    3            1           1     Jueves\n",
       "5390    2019    1    4            1           1    Viernes\n",
       "5548    2019    1    5            1           1     Sábado\n",
       "...      ...  ...  ...          ...         ...        ...\n",
       "303258  2023   12   27           52           5  Miércoles\n",
       "303403  2023   12   28           52           5     Jueves\n",
       "303550  2023   12   29           52           5    Viernes\n",
       "303705  2023   12   30           52           5     Sábado\n",
       "303833  2023   12   31           52           5    Domingo\n",
       "\n",
       "[1826 rows x 6 columns]"
      ]
     },
     "execution_count": 10,
     "metadata": {},
     "output_type": "execute_result"
    }
   ],
   "source": [
    "time_dim_filtered"
   ]
  },
  {
   "cell_type": "code",
   "execution_count": null,
   "metadata": {},
   "outputs": [],
   "source": []
  },
  {
   "cell_type": "code",
   "execution_count": null,
   "metadata": {},
   "outputs": [],
   "source": []
  },
  {
   "cell_type": "code",
   "execution_count": null,
   "metadata": {},
   "outputs": [],
   "source": []
  }
 ],
 "metadata": {
  "kernelspec": {
   "display_name": "base",
   "language": "python",
   "name": "python3"
  },
  "language_info": {
   "codemirror_mode": {
    "name": "ipython",
    "version": 3
   },
   "file_extension": ".py",
   "mimetype": "text/x-python",
   "name": "python",
   "nbconvert_exporter": "python",
   "pygments_lexer": "ipython3",
   "version": "3.11.4"
  }
 },
 "nbformat": 4,
 "nbformat_minor": 2
}
