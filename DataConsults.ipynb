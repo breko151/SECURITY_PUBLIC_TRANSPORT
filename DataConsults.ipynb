{
 "cells": [
  {
   "cell_type": "code",
   "execution_count": 11,
   "metadata": {},
   "outputs": [],
   "source": [
    "import pandas as pd\n"
   ]
  },
  {
   "cell_type": "code",
   "execution_count": 12,
   "metadata": {},
   "outputs": [],
   "source": [
    "df_afluency = pd.read_csv(\"./fact_constellation_schema/ftb_afluencia_estaciones.csv\")\n",
    "df_dim_estations = pd.read_csv(\"./fact_constellation_schema/dim_estaciones.csv\")\n",
    "df_dim_time = pd.read_csv(\"./fact_constellation_schema/dim_tiempo.csv\")\n",
    "df_dim_space = pd.read_csv(\"./fact_constellation_schema/dim_espacio.csv\")\n",
    "df_investigation = pd.read_csv(\"./fact_constellation_schema/ftb_carpetas_investigacion_fgj.csv\")"
   ]
  },
  {
   "cell_type": "code",
   "execution_count": 13,
   "metadata": {},
   "outputs": [
    {
     "data": {
      "text/plain": [
       "Index(['cve_est', 'id_espacio', 'sistema', 'tipo', 'linea', 'anio_apertura',\n",
       "       'num_estacion', 'nombre', 'cantidad_transbordos_metro',\n",
       "       'cantidad_transbordos_metrobus', 'zona', 'alcaldia', 'cve_mun_inegi',\n",
       "       'sector', 'id_sector_ssc', 'longitud', 'latitud'],\n",
       "      dtype='object')"
      ]
     },
     "execution_count": 13,
     "metadata": {},
     "output_type": "execute_result"
    }
   ],
   "source": [
    "merge_inv = pd.merge(df_dim_estations, df_dim_space, on='id_espacio', how=\"left\" )\n",
    "merge_inv.columns"
   ]
  },
  {
   "cell_type": "code",
   "execution_count": 14,
   "metadata": {},
   "outputs": [
    {
     "data": {
      "text/plain": [
       "(461, 10)"
      ]
     },
     "execution_count": 14,
     "metadata": {},
     "output_type": "execute_result"
    }
   ],
   "source": [
    "df_dim_estations.shape"
   ]
  },
  {
   "cell_type": "code",
   "execution_count": 15,
   "metadata": {},
   "outputs": [
    {
     "data": {
      "text/plain": [
       "(461, 17)"
      ]
     },
     "execution_count": 15,
     "metadata": {},
     "output_type": "execute_result"
    }
   ],
   "source": [
    "merge_inv.shape"
   ]
  },
  {
   "cell_type": "code",
   "execution_count": 16,
   "metadata": {},
   "outputs": [],
   "source": [
    "merge_inv = merge_inv[[\"cve_est\", \"sistema\", \"tipo\", \"linea\", \"nombre\", \"longitud\", \"latitud\"]]"
   ]
  },
  {
   "cell_type": "code",
   "execution_count": 18,
   "metadata": {},
   "outputs": [],
   "source": [
    "merge_inv.to_csv(\"./fact_constellation_schema/coordanadas_estaciones.csv\", index=False)"
   ]
  },
  {
   "cell_type": "code",
   "execution_count": 5,
   "metadata": {},
   "outputs": [
    {
     "data": {
      "text/plain": [
       "(461, 10)"
      ]
     },
     "execution_count": 5,
     "metadata": {},
     "output_type": "execute_result"
    }
   ],
   "source": [
    "df_dim_estations.shape"
   ]
  },
  {
   "cell_type": "code",
   "execution_count": 7,
   "metadata": {},
   "outputs": [
    {
     "data": {
      "text/plain": [
       "Index(['cve_est', 'id_espacio', 'sistema', 'tipo', 'linea', 'anio_apertura',\n",
       "       'num_estacion', 'nombre', 'cantidad_transbordos_metro',\n",
       "       'cantidad_transbordos_metrobus', 'id_carpeta', 'cve_est_mas_cercana',\n",
       "       'id_equip_urbano_mas_cercano', 'id_tiempo', 'id_delito', 'id_sexo',\n",
       "       'id_edad', 'dist_delito_estacion', 'dist_delito_equip_urbano',\n",
       "       'dist_equip_urbano_estacion'],\n",
       "      dtype='object')"
      ]
     },
     "execution_count": 7,
     "metadata": {},
     "output_type": "execute_result"
    }
   ],
   "source": [
    "merge_inv = pd.merge(df_dim_estations, df_investigation, \"left\")\n",
    "merge_inv.columns"
   ]
  },
  {
   "cell_type": "code",
   "execution_count": 10,
   "metadata": {},
   "outputs": [
    {
     "data": {
      "text/html": [
       "<div>\n",
       "<style scoped>\n",
       "    .dataframe tbody tr th:only-of-type {\n",
       "        vertical-align: middle;\n",
       "    }\n",
       "\n",
       "    .dataframe tbody tr th {\n",
       "        vertical-align: top;\n",
       "    }\n",
       "\n",
       "    .dataframe thead th {\n",
       "        text-align: right;\n",
       "    }\n",
       "</style>\n",
       "<table border=\"1\" class=\"dataframe\">\n",
       "  <thead>\n",
       "    <tr style=\"text-align: right;\">\n",
       "      <th></th>\n",
       "      <th>cve_est</th>\n",
       "      <th>id_espacio</th>\n",
       "      <th>cve_est_mas_cercana</th>\n",
       "    </tr>\n",
       "  </thead>\n",
       "  <tbody>\n",
       "    <tr>\n",
       "      <th>0</th>\n",
       "      <td>MB0102</td>\n",
       "      <td>1</td>\n",
       "      <td>NaN</td>\n",
       "    </tr>\n",
       "    <tr>\n",
       "      <th>1</th>\n",
       "      <td>MB0103</td>\n",
       "      <td>2</td>\n",
       "      <td>NaN</td>\n",
       "    </tr>\n",
       "    <tr>\n",
       "      <th>2</th>\n",
       "      <td>MB0104</td>\n",
       "      <td>3</td>\n",
       "      <td>NaN</td>\n",
       "    </tr>\n",
       "    <tr>\n",
       "      <th>3</th>\n",
       "      <td>MB0105</td>\n",
       "      <td>4</td>\n",
       "      <td>NaN</td>\n",
       "    </tr>\n",
       "    <tr>\n",
       "      <th>4</th>\n",
       "      <td>MB0106</td>\n",
       "      <td>5</td>\n",
       "      <td>NaN</td>\n",
       "    </tr>\n",
       "  </tbody>\n",
       "</table>\n",
       "</div>"
      ],
      "text/plain": [
       "  cve_est  id_espacio cve_est_mas_cercana\n",
       "0  MB0102           1                 NaN\n",
       "1  MB0103           2                 NaN\n",
       "2  MB0104           3                 NaN\n",
       "3  MB0105           4                 NaN\n",
       "4  MB0106           5                 NaN"
      ]
     },
     "execution_count": 10,
     "metadata": {},
     "output_type": "execute_result"
    }
   ],
   "source": [
    "merge_inv = merge_inv[[\"cve_est\", \"nombre\", \"id_espacio\", \"cve_est_mas_cercana\"]]\n",
    "merge_inv.head()"
   ]
  }
 ],
 "metadata": {
  "kernelspec": {
   "display_name": "APP",
   "language": "python",
   "name": "python3"
  },
  "language_info": {
   "codemirror_mode": {
    "name": "ipython",
    "version": 3
   },
   "file_extension": ".py",
   "mimetype": "text/x-python",
   "name": "python",
   "nbconvert_exporter": "python",
   "pygments_lexer": "ipython3",
   "version": "3.11.8"
  }
 },
 "nbformat": 4,
 "nbformat_minor": 2
}
